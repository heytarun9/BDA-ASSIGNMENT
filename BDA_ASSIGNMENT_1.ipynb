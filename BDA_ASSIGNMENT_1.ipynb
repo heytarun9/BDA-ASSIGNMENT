{
  "nbformat": 4,
  "nbformat_minor": 0,
  "metadata": {
    "colab": {
      "provenance": [],
      "authorship_tag": "ABX9TyNzKJ9xhpfIIO0tEGKZrjo1",
      "include_colab_link": true
    },
    "kernelspec": {
      "name": "python3",
      "display_name": "Python 3"
    },
    "language_info": {
      "name": "python"
    }
  },
  "cells": [
    {
      "cell_type": "markdown",
      "metadata": {
        "id": "view-in-github",
        "colab_type": "text"
      },
      "source": [
        "<a href=\"https://colab.research.google.com/github/heytarun9/BDA-ASSIGNMENT/blob/main/BDA_ASSIGNMENT_1.ipynb\" target=\"_parent\"><img src=\"https://colab.research.google.com/assets/colab-badge.svg\" alt=\"Open In Colab\"/></a>"
      ]
    },
    {
      "cell_type": "code",
      "execution_count": 1,
      "metadata": {
        "colab": {
          "base_uri": "https://localhost:8080/"
        },
        "id": "F_hJFYdWj_24",
        "outputId": "b6ccfb01-8c30-4b1b-bb4d-26cc6999acc1"
      },
      "outputs": [
        {
          "output_type": "stream",
          "name": "stdout",
          "text": [
            "gender                      87\n",
            "age                         87\n",
            "university                  87\n",
            "degree_level                87\n",
            "degree_major                87\n",
            "academic_year               87\n",
            "cgpa                        87\n",
            "residential_status          87\n",
            "campus_discrimination       87\n",
            "sports_engagement           87\n",
            "average_sleep               87\n",
            "study_satisfaction          87\n",
            "academic_workload           87\n",
            "academic_pressure           87\n",
            "financial_concerns          87\n",
            "social_relationships        87\n",
            "depression                  87\n",
            "anxiety                     87\n",
            "isolation                   87\n",
            "future_insecurity           87\n",
            "stress_relief_activities    87\n",
            "dtype: int64\n"
          ]
        }
      ],
      "source": [
        "# Pyspark program to count number of words in a file stored in local system.\n",
        "import pandas as pd\n",
        "\n",
        "# Load the file\n",
        "file_path = '/content/MentalHealthSurvey.csv'\n",
        "data = pd.read_csv(file_path)  # Use pd.read_csv if it's actually a CSV file\n",
        "\n",
        "# Count the number of entries per column\n",
        "word_counts_per_column = data.count()\n",
        "\n",
        "# Display the counts\n",
        "print(word_counts_per_column)\n"
      ]
    },
    {
      "cell_type": "code",
      "source": [
        "# BDA-ASSIGNMENT 2"
      ],
      "metadata": {
        "id": "yl5-R7fcl6Uu"
      },
      "execution_count": null,
      "outputs": []
    }
  ]
}